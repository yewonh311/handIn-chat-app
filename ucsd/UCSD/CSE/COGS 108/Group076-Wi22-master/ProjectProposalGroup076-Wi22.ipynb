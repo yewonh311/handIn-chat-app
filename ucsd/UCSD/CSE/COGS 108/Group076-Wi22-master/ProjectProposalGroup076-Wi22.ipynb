{
 "cells": [
  {
   "cell_type": "markdown",
   "metadata": {},
   "source": [
    "# COGS 108 - Final Project Proposal"
   ]
  },
  {
   "cell_type": "markdown",
   "metadata": {},
   "source": [
    "# Names\n",
    "\n",
    "- David Soberanis\n",
    "- Yewon Hong \n",
    "- Andrew Burda\n",
    "- Zach Lloyd\n",
    "- Lawrence Kuo"
   ]
  },
  {
   "cell_type": "markdown",
   "metadata": {},
   "source": [
    "# Research Question"
   ]
  },
  {
   "cell_type": "markdown",
   "metadata": {},
   "source": [
    "How does a Graduate school diploma affect housing cost and happiness? Happiness will be measured from a happiness index and housing value will be taken from Zillow’s API."
   ]
  },
  {
   "cell_type": "markdown",
   "metadata": {},
   "source": [
    "## Background and Prior Work"
   ]
  },
  {
   "cell_type": "markdown",
   "metadata": {},
   "source": [
    "Introduction\n",
    "With rising tuition costs and a higher saturation of individuals with higher education entering the market each year, one begins to wonder if paying for a graduate degree is still worth it. There is no doubt that earning a graduate degree is difficult and costly. Many companies and research institutions rely on the work of those with graduate degrees in order to increase their profit margins. Thus these companies are willing to largely fund research and development. This combined with the difficulty and time required to obtain a graduate degree leads us to believe it is more likely the income for those with graduate degrees should be much higher than average. A higher income can allow one to afford a better quality of life (including a higher cost of living) which could lead to increased happiness.  In our study, we are attempting to evaluate if a relationship exists between obtaining a graduate degree,  house value, and increased happiness metrics.\n",
    "\n",
    "Prior Work:\n",
    "After some initial research, we found income does in fact increase with a graduate degree. In an article by US News(1), it was found that the median annual earnings for full-time workers holding a bachelor's degree was $66,536, a master's 81,636 dollars, and a doctoral was 127,487 dollars. This article aimed to weigh potential earnings against graduate school costs. Graduate school debt increased gradually from 2011 to 2017. Some degrees such as a master's in social work have a median debt of 115,000 dollars while first-year earnings are only 49,400 dollars. Despite this data, it seems possible that choosing a graduate degree in some industries can yield more profit for an individual. So depending on the industry of the degree it may or may not make economic sense to obtain a degree. \n",
    "\n",
    "A news article (2) seems to agree with the idea that there is a positive correlation between obtaining higher education and happiness. The article summarizes several studies which evaluate different aspects most associated with happiness. Some of which include long-term health, stable marriages, and more income. These studies show a positive correlation between higher education and the aforementioned aspects. \n",
    "\n",
    " \n",
    "\n",
    "\n",
    "\n",
    "- 1) https://www.usnews.com/education/best-graduate-schools/paying/articles/is-graduate-school-worth-the-cost#:~:text=It's%20true%20that%20on%20average,to%20U.S.%20Census%20Bureau%20data.\n",
    "- 2) https://www.cnbc.com/2020/08/17/does-getting-a-college-degree-make-you-happier.html"
   ]
  },
  {
   "cell_type": "markdown",
   "metadata": {},
   "source": [
    "# Hypothesis\n"
   ]
  },
  {
   "cell_type": "markdown",
   "metadata": {},
   "source": [
    "We hypothesize that having a graduate school diploma will be (positively) correlated with a higher house value and happiness index. We believe this is the case because having a graduate degree results in having more competitive qualifications which leads to earning a higher income. However, we acknowledge earning a graduate degree can require accepting loans which could counter the added income. "
   ]
  },
  {
   "cell_type": "markdown",
   "metadata": {},
   "source": [
    "# Data"
   ]
  },
  {
   "cell_type": "markdown",
   "metadata": {},
   "source": [
    "An ideal data set we would like to have would be as many people as we could get and would tell us their median household income, level of education, location, and how happy they are with their lives. We could potentially obtain this information through surveys, cold calling, asking people on the street, posting to message boards or social media. "
   ]
  },
  {
   "cell_type": "markdown",
   "metadata": {},
   "source": [
    "# Ethics & Privacy"
   ]
  },
  {
   "cell_type": "markdown",
   "metadata": {},
   "source": [
    "We do not have any ethics concerns with our project as we are answering a general question and will be collecting data in an ethical way. \n",
    "Privacy however could be an issue which is why we will be asking people for their consent to use their information or get data from a public source. \n"
   ]
  },
  {
   "cell_type": "markdown",
   "metadata": {},
   "source": [
    "# Team Expectations "
   ]
  },
  {
   "cell_type": "markdown",
   "metadata": {},
   "source": [
    "* We are expecting to meet as a team this coming week in order to hammer out final details and to start collecting data\n",
    "* Find more data sources and fine-tune our hypothesis so that we can get a clear and concise answer to our question\n",
    "* In order to successfully complete the project, our group must comply with the deadline according to our timeline proposal, but we believe that the project objectives should not be sloppy in order to meet the deadline. We will do all the work within the given range, within data sets, to access the data we selected efficiently and analytically. Also, we will always keep in mind what we want to know and what we think the business problem we are trying to know and solve is the foundation of data analysis. For this, we always try to focus on communication and conflict resolution.\n",
    "* External data sources, such as open data sets that are now publicly available, are growing rapidly. There are also easy ways to retrieve data from the web and bring it into a usable format, such as scraping techniques. These methods can be useful in an academic environment, but we will try to utilize the original data source whenever possible."
   ]
  },
  {
   "cell_type": "markdown",
   "metadata": {},
   "source": [
    "# Project Timeline Proposal"
   ]
  },
  {
   "cell_type": "markdown",
   "metadata": {},
   "source": [
    "| Meeting Date  | Meeting Time| Completed Before Meeting  | Discuss at Meeting |\n",
    "|---|---|---|---|\n",
    "| 1/20  |  1 PM | Read & Think about COGS 108 expectations; brainstorm topics/questions  | Determine best form of communication; Discuss and decide on final project topic; discuss hypothesis; begin background research | \n",
    "| 1/26  |  10 AM |  Do background research on topic | Discuss ideal dataset(s) and ethics; draft project proposal | \n",
    "| 2/1  | 10 AM  | Edit, finalize, and submit proposal; Search for datasets  | Discuss Wrangling and possible analytical approaches; Assign group members to lead each specific part   |\n",
    "| 2/14  | 6 PM  | Import & Wrangle Data (Ant Man); EDA (Hulk) | Review/Edit wrangling/EDA; Discuss Analysis Plan   |\n",
    "| 2/23  | 12 PM  | Finalize wrangling/EDA; Begin Analysis (Iron Man; Thor) | Discuss/edit Analysis; Complete project check-in |\n",
    "| 3/13  | 12 PM  | Complete analysis; Draft results/conclusion/discussion (Wasp)| Discuss/edit full project |\n",
    "| 3/19  | Before 11:59 PM  | NA | Turn in Final Project & Group Project Surveys |"
   ]
  },
  {
   "cell_type": "markdown",
   "metadata": {},
   "source": []
  }
 ],
 "metadata": {
  "kernelspec": {
   "display_name": "Python 3",
   "language": "python",
   "name": "python3"
  },
  "language_info": {
   "codemirror_mode": {
    "name": "ipython",
    "version": 3
   },
   "file_extension": ".py",
   "mimetype": "text/x-python",
   "name": "python",
   "nbconvert_exporter": "python",
   "pygments_lexer": "ipython3",
   "version": "3.7.9"
  }
 },
 "nbformat": 4,
 "nbformat_minor": 2
}
